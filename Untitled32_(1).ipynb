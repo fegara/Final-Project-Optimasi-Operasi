{
  "nbformat": 4,
  "nbformat_minor": 0,
  "metadata": {
    "colab": {
      "provenance": []
    },
    "kernelspec": {
      "name": "python3",
      "display_name": "Python 3"
    },
    "language_info": {
      "name": "python"
    }
  },
  "cells": [
    {
      "cell_type": "code",
      "source": [
        "!pip install ortools --no-deps"
      ],
      "metadata": {
        "colab": {
          "base_uri": "https://localhost:8080/"
        },
        "id": "sA_XhC0UAGqy",
        "outputId": "235c5ab9-7bfe-4a3f-ed86-16b4e1bcb503"
      },
      "execution_count": 8,
      "outputs": [
        {
          "output_type": "stream",
          "name": "stdout",
          "text": [
            "Requirement already satisfied: ortools in /usr/local/lib/python3.11/dist-packages (9.13.4784)\n"
          ]
        }
      ]
    },
    {
      "cell_type": "code",
      "execution_count": 9,
      "metadata": {
        "colab": {
          "base_uri": "https://localhost:8080/"
        },
        "id": "SkeG28Ef_tVn",
        "outputId": "02fefda4-9ee4-47ac-f70c-bae1118f8ad7"
      },
      "outputs": [
        {
          "output_type": "stream",
          "name": "stdout",
          "text": [
            "Requirement already satisfied: ortools in /usr/local/lib/python3.11/dist-packages (9.13.4784)\n",
            "Requirement already satisfied: absl-py>=2.0.0 in /usr/local/lib/python3.11/dist-packages (from ortools) (2.3.0)\n",
            "Requirement already satisfied: numpy>=1.13.3 in /usr/local/lib/python3.11/dist-packages (from ortools) (2.0.2)\n",
            "Requirement already satisfied: pandas>=2.0.0 in /usr/local/lib/python3.11/dist-packages (from ortools) (2.2.2)\n",
            "Requirement already satisfied: protobuf<6.32,>=6.31.0 in /usr/local/lib/python3.11/dist-packages (from ortools) (6.31.1)\n",
            "Requirement already satisfied: typing-extensions>=4.12 in /usr/local/lib/python3.11/dist-packages (from ortools) (4.14.0)\n",
            "Requirement already satisfied: immutabledict>=3.0.0 in /usr/local/lib/python3.11/dist-packages (from ortools) (4.2.1)\n",
            "Requirement already satisfied: python-dateutil>=2.8.2 in /usr/local/lib/python3.11/dist-packages (from pandas>=2.0.0->ortools) (2.9.0.post0)\n",
            "Requirement already satisfied: pytz>=2020.1 in /usr/local/lib/python3.11/dist-packages (from pandas>=2.0.0->ortools) (2025.2)\n",
            "Requirement already satisfied: tzdata>=2022.7 in /usr/local/lib/python3.11/dist-packages (from pandas>=2.0.0->ortools) (2025.2)\n",
            "Requirement already satisfied: six>=1.5 in /usr/local/lib/python3.11/dist-packages (from python-dateutil>=2.8.2->pandas>=2.0.0->ortools) (1.17.0)\n"
          ]
        }
      ],
      "source": [
        "pip install ortools"
      ]
    },
    {
      "cell_type": "code",
      "source": [
        "!pip install ortools --no-deps"
      ],
      "metadata": {
        "colab": {
          "base_uri": "https://localhost:8080/"
        },
        "id": "u8OKnfLlv61O",
        "outputId": "495800ff-92e4-4113-a505-9fc59c1079d1"
      },
      "execution_count": 10,
      "outputs": [
        {
          "output_type": "stream",
          "name": "stdout",
          "text": [
            "Requirement already satisfied: ortools in /usr/local/lib/python3.11/dist-packages (9.13.4784)\n"
          ]
        }
      ]
    },
    {
      "cell_type": "code",
      "source": [
        "from ortools.sat.python import cp_model\n",
        "import datetime\n",
        "import pandas as pd # Untuk tampilan output, jika diperlukan\n",
        "\n",
        "# --- 1. PARAMETER ---\n",
        "N_units = 27  # Jumlah total sarana\n",
        "Max_Days = 600 # Horizon perencanaan\n",
        "Max_Units_Per_Day = 1 # Kapasitas maksimal sarana per hari (slot)\n",
        "\n",
        "Task_Sequence = [\"P1\", \"P1\", \"P3\", \"P1\", \"P1\", \"P6\", \"P1\", \"P1\", \"P3\", \"P1\", \"P1\", \"P12\"]\n",
        "Durations = {\"P1\": 1, \"P3\": 1, \"P6\": 1, \"P12\": 2} # Durasi dalam hari kerja\n",
        "\n",
        "N_tasks = len(Task_Sequence) # Jumlah tugas per unit\n",
        "\n",
        "start_date = datetime.date(2025, 1, 1)\n",
        "Working_Days = {d: (start_date + datetime.timedelta(days=d - 1)).weekday() < 4 for d in range(1, Max_Days + 1)}\n",
        "\n",
        "# --- 2. MODEL CP-SAT ---\n",
        "model = cp_model.CpModel()\n",
        "\n",
        "# --- 3. VARIABEL ---\n",
        "# Variabel Start, End, Interval untuk setiap tugas\n",
        "tasks = {} # tasks[(u, t)] = (start_var, end_inclusive_var, interval_var)\n",
        "\n",
        "for u in range(1, N_units + 1):\n",
        "    for t in range(1, N_tasks + 1):\n",
        "        suffix = f\"U{u}T{t}\"\n",
        "        start_var = model.NewIntVar(1, Max_Days, f\"Start_{suffix}\")\n",
        "        end_inclusive_var = model.NewIntVar(1, Max_Days, f\"End_Inclusive_{suffix}\")\n",
        "\n",
        "        duration_val = Durations[Task_Sequence[t-1]]\n",
        "\n",
        "        # Interval variable uses (start, size, end_exclusive)\n",
        "        # So end_exclusive_var = end_inclusive_var + 1\n",
        "        # Link end_inclusive_var with start_var and duration_val\n",
        "        model.Add(end_inclusive_var == start_var + duration_val - 1) # This is crucial.\n",
        "\n",
        "        # NewIntervalVar(start_variable, size_constant, end_variable, name)\n",
        "        # The 'end_variable' here is usually exclusive, so (end_inclusive + 1)\n",
        "        interval_var = model.NewIntervalVar(start_var, duration_val, end_inclusive_var + 1, f\"Interval_{suffix}\")\n",
        "\n",
        "        tasks[(u, t)] = (start_var, end_inclusive_var, interval_var)\n",
        "\n",
        "# Variabel penyelesaian keseluruhan\n",
        "overall_completion_day = model.NewIntVar(1, Max_Days, \"Overall_Completion_Day\")\n",
        "\n",
        "\n",
        "# --- 4. OBJEKTIF ---\n",
        "# Meminimalkan hari penyelesaian keseluruhan\n",
        "model.Minimize(overall_completion_day)\n",
        "\n",
        "# Kendala: overall_completion_day harus lebih besar atau sama dengan hari penyelesaian setiap tugas terakhir\n",
        "for u in range(1, N_units + 1):\n",
        "    model.Add(overall_completion_day >= tasks[(u, N_tasks)][1])\n",
        "\n",
        "\n",
        "# --- 5. KONSTRAIN ---\n",
        "\n",
        "# 5.1 Jarak antar tugas (Precedence dengan Rentang Jeda Tetap untuk SEMUA Transisi)\n",
        "for u in range(1, N_units + 1):\n",
        "    for t in range(1, N_tasks):\n",
        "        start_next_task = tasks[(u, t+1)][0]\n",
        "        end_current_task = tasks[(u, t)][1]\n",
        "\n",
        "        model.Add(start_next_task >= end_current_task + 30) # Jeda minimal 30 hari\n",
        "        model.Add(start_next_task <= end_current_task + 60) # Jeda maksimal 60 hari\n",
        "\n",
        "\n",
        "# 5.2 Kendala Kapasitas Harian (dengan Cumulative Constraint)\n",
        "all_intervals = []\n",
        "demands = [] # Demands are 1 unit for each task\n",
        "for u in range(1, N_units + 1):\n",
        "    for t in range(1, N_tasks + 1):\n",
        "        all_intervals.append(tasks[(u, t)][2]) # tasks[(u, t)][2] adalah interval_var\n",
        "        demands.append(1) # Setiap tugas menggunakan 1 unit kapasitas\n",
        "\n",
        "# Kapasitas harian untuk sarana\n",
        "model.AddCumulative(all_intervals, demands, Max_Units_Per_Day)\n",
        "\n",
        "\n",
        "# 5.3 Kendala Hari Kerja (Revisi untuk CP-SAT - Paling Efisien)\n",
        "# Model ini akan menciptakan FixedIntervals untuk setiap hari libur.\n",
        "# Kemudian, setiap interval tugas dilarang tumpang tindih dengan interval hari libur.\n",
        "holiday_fixed_intervals = []\n",
        "for d in range(1, Max_Days + 1):\n",
        "    if not Working_Days[d]:\n",
        "        # PERBAIKAN DI SINI: NewIntervalVar dengan ukuran tetap (size=1)\n",
        "        holiday_fixed_intervals.append(model.NewIntervalVar(d, 1, d + 1, f\"Holiday_Day_{d}_Interval\"))\n",
        "\n",
        "# Constraint: No task interval can overlap with any holiday interval.\n",
        "for task_interval in all_intervals: # Iterate over all task intervals\n",
        "    for holiday_interval in holiday_fixed_intervals:\n",
        "        # Constraint: task_interval must not overlap with holiday_interval\n",
        "        # (task.End <= holiday.Start) OR (holiday.End <= task.Start)\n",
        "        # This requires creating Boolean literals for each condition and using BoolOr\n",
        "\n",
        "        # Create literals for the conditions\n",
        "        task_ends_before_holiday = model.NewBoolVar(f\"EndBeforeHoliday_{task_interval.Name()}_{holiday_interval.Name()}\")\n",
        "        holiday_ends_before_task = model.NewBoolVar(f\"HolidayBeforeTask_{task_interval.Name()}_{holiday_interval.Name()}\")\n",
        "\n",
        "        # Add constraints to enforce the literals\n",
        "        # task_interval.EndExpr() (exclusive) <= holiday_interval.StartExpr() (exclusive)\n",
        "        model.Add(task_interval.EndExpr() <= holiday_interval.StartExpr()).OnlyEnforceIf(task_ends_before_holiday)\n",
        "        model.Add(task_interval.EndExpr() > holiday_interval.StartExpr()).OnlyEnforceIf(task_ends_before_holiday.Not()) # Optional, for tight linking\n",
        "\n",
        "        # holiday_interval.EndExpr() (exclusive) <= task_interval.StartExpr() (exclusive)\n",
        "        model.Add(holiday_interval.EndExpr() <= task_interval.StartExpr()).OnlyEnforceIf(holiday_ends_before_task)\n",
        "        model.Add(holiday_interval.EndExpr() > task_interval.StartExpr()).OnlyEnforceIf(holiday_ends_before_task.Not()) # Optional, for tight linking\n",
        "\n",
        "        # Force one of these conditions to be true (no overlap)\n",
        "        model.AddBoolOr([task_ends_before_holiday, holiday_ends_before_task])\n",
        "\n",
        "\n",
        "# --- Solver and Output ---\n",
        "solver = cp_model.CpSolver()\n",
        "solver.parameters.log_search_progress = True # Show solver progress\n",
        "solver.parameters.max_time_in_seconds = 5400 # 90 minutes\n",
        "\n",
        "print(\"Memulai proses optimasi (CP-SAT)...\")\n",
        "status = solver.Solve(model)\n",
        "\n",
        "# --- 7. OUTPUT ---\n",
        "print(f\"\\nStatus Solusi: {solver.StatusName(status)}\")\n",
        "\n",
        "if status == cp_model.OPTIMAL or status == cp_model.FEASIBLE:\n",
        "    print(f\"Hari Penyelesaian Keseluruhan Optimal: {solver.Value(overall_completion_day)}\")\n",
        "\n",
        "    print(\"\\nJadwal Mulai/Selesai Perawatan per Unit dan Tugas:\")\n",
        "    # Loop untuk semua unit\n",
        "    for u in range(1, N_units + 1):\n",
        "        print(f\"\\n📦 Jadwal Unit {u}\")\n",
        "        for t in range(1, N_tasks + 1):\n",
        "            start_val = solver.Value(tasks[(u, t)][0])\n",
        "            end_val = solver.Value(tasks[(u, t)][1]) # End_inclusive_var\n",
        "            task_type = Task_Sequence[t-1]\n",
        "\n",
        "            tanggal_start = start_date + datetime.timedelta(days=start_val - 1)\n",
        "            tanggal_end = start_date + datetime.timedelta(days=end_val - 1)\n",
        "\n",
        "            print(f\"🔧 Tugas {t} ({task_type}): Mulai {tanggal_start.strftime('%A, %Y-%m-%d')} (hari ke-{start_val}), Selesai {tanggal_end.strftime('%A, %Y-%m-%d')} (hari ke-{end_val})\")\n",
        "\n",
        "    # Verifikasi Pemanfaatan Kapasitas Harian (CP-SAT akan memastikan ini benar)\n",
        "    print(\"\\n--- Verifikasi Pemanfaatan Kapasitas Harian ---\")\n",
        "    print(\"Catatan: CP-SAT secara internal menangani kapasitas. Output ini adalah verifikasi berdasarkan jadwal.\")\n",
        "    daily_load_sum = {}\n",
        "    for d in range(1, min(30, Max_Days) + 1): # Output 30 hari pertama\n",
        "        active_tasks_on_day = []\n",
        "        for u in range(1, N_units + 1):\n",
        "            for t in range(1, N_tasks + 1):\n",
        "                start_task_val = solver.Value(tasks[(u, t)][0])\n",
        "                end_task_val = solver.Value(tasks[(u, t)][1]) # Inclusive end\n",
        "\n",
        "                if start_task_val <= d and d <= end_task_val:\n",
        "                    active_tasks_on_day.append(f\"U{u}T{t}\")\n",
        "\n",
        "        tanggal_d = start_date + datetime.timedelta(days=d - 1)\n",
        "        hari_kerja_str = \"Kerja\" if Working_Days[d] else \"LIBUR\"\n",
        "\n",
        "        print(f\"Hari {d} ({tanggal_d.strftime('%A, %Y-%m-%d')}, {hari_kerja_str}): {len(active_tasks_on_day)} tugas aktif ({', '.join(active_tasks_on_day)})\")\n",
        "\n",
        "\n",
        "elif status == cp_model.INFEASIBLE:\n",
        "    print(\"Model tidak memiliki solusi (Infeasible). Periksa kembali kendala.\")\n",
        "elif status == cp_model.MODEL_INVALID:\n",
        "    print(\"Model tidak valid. Ada kesalahan dalam definisi model.\")\n",
        "else:\n",
        "    print(\"Solver berhenti sebelum menemukan solusi optimal atau infeasibility (e.g., time limit).\")\n",
        "    print(f\"Status: {solver.StatusName(status)}. Objective value: {solver.ObjectiveValue()}\")\n",
        "    # Anda bisa mencoba mengakses nilai variabel jika status FEASIBLE, meskipun tidak OPTIMAL"
      ],
      "metadata": {
        "colab": {
          "base_uri": "https://localhost:8080/"
        },
        "id": "ZuISx8RTBBL5",
        "outputId": "5eb0e2f8-bbc1-4c3b-93b7-1a3b1c145884"
      },
      "execution_count": 7,
      "outputs": [
        {
          "output_type": "stream",
          "name": "stdout",
          "text": [
            "Memulai proses optimasi (CP-SAT)...\n",
            "\n",
            "Status Solusi: UNKNOWN\n",
            "Solver berhenti sebelum menemukan solusi optimal atau infeasibility (e.g., time limit).\n",
            "Status: UNKNOWN. Objective value: 597.0\n"
          ]
        }
      ]
    }
  ]
}